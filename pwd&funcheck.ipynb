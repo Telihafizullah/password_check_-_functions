{
 "cells": [
  {
   "cell_type": "code",
   "execution_count": 3,
   "metadata": {},
   "outputs": [
    {
     "data": {
      "text/plain": [
       "[1, 3, 5, 7, 9]"
      ]
     },
     "execution_count": 3,
     "metadata": {},
     "output_type": "execute_result"
    }
   ],
   "source": [
    "my_string=\"hafizullah\"\n",
    "#Check if the string starts with a particular letter\n",
    "my_string.startswith(\"h\")#true\n",
    "#Check if the string end with a particular lett\n",
    "my_string.endswith(\"i\")#true\n",
    "#Check if the string is numeric\n",
    "my_string.isnumeric()#false\n",
    "\n",
    "# Sort a list of tuples having fruit names and their quantity. [(\"mango\",99),(\"orange\",80), (\"grapes\", 1000)\n",
    "#lambda function\n",
    "t=[(\"mango\",99),(\"orange\",80),(\"grapes\",1000)]\n",
    "list(sorted(t,key=lambda x:x[1]))#[('orange', 80), ('mango', 99), ('grapes', 1000)]\n",
    "sorted(t)#[('grapes', 1000), ('mango', 99), ('orange', 80)]\n",
    "\n",
    "#Find the squares of numbers from 1 to 10\n",
    "# Map function\n",
    "def square(i):\n",
    "    return i**2\n",
    "\n",
    "num=[1,2,3,4,5,6,7,8,9,10]\n",
    "list(map(square,num))\n",
    "\n",
    "# Find the cube root of numbers from 1 to 10\n",
    "# reduce function \n",
    "def cube(i):\n",
    "    return i%2==0\n",
    "num=[1,2,3,4,5,6,7,8,9,10]\n",
    "list(filter(cube,num))\n",
    "\n",
    "# Check if a given number is even\n",
    "def is_even(i):\n",
    "    if i%2==0:\n",
    "       return  i \n",
    "num=[1,2,3,4,5,6,7,8,9,10]\n",
    "list(filter(is_even,num))\n",
    "\n",
    "# Filter odd numbers from the given list.\n",
    "numbers=[1,2,3,4,5,6,7,8,9,10]\n",
    "list(filter(lambda x : x%2 !=0,numbers))\n",
    "\n",
    "# B Sort a list of integers into positive and negative integers lists.\n",
    "pn=[1,2,3,4,5,6,-1,-2,-3,-4,-5,0]\n",
    "sorted(pn)#[-7, -5, -2, -1, 0, 1, 2, 3, 4, 5, 6]\n",
    "pn.sort(reverse=True)\n",
    "print(pn)"
   ]
  },
  {
   "cell_type": "code",
   "execution_count": null,
   "metadata": {},
   "outputs": [],
   "source": [
    "# Q1. You are writing code for a company. The requirement of the company is that you create a python\n",
    "# function that will check whether the password entered by the user is correct or not. The function should\n",
    "# take the password as input and return the string “Valid Password” if the entered password follows the\n",
    "# below-given password guidelines else it should return “Invalid Password”.\n",
    "# Note: 1. The Password should contain at least two uppercase letters and at least two lowercase letters.\n",
    "# 2. The Password should contain at least a number and three special characters.\n",
    "# 3. The length of the password should be 10 characters long.\n",
    "import re\n",
    "def check_password(password):\n",
    "    if len(password)>=10:\n",
    "        if len(re.findall(r\"[A-Z]\",password))>=2 : \n",
    "            if len(re.findall(r\"[a-z]\",password))>=2:\n",
    "                if len(re.findall(r\"\\d\",password))>=1:\n",
    "                    if len(re.findall(r\"[_!@#$%^&*(){}<>,./?|~`=+-]\",password))>=2:\n",
    "                       return True\n",
    "                    else:\n",
    "                         print(\"password must have 2 or more than special letters\")\n",
    "                         return False\n",
    "                else:\n",
    "                    print(\"password must contain one or more numbers\")\n",
    "                    return False\n",
    "            else: \n",
    "                print(\"password must contain small letters 2 or more\")\n",
    "                return False\n",
    "        else: \n",
    "            print(\"password must contain 2 or more capail letters\")\n",
    "            return False\n",
    "    else: print(\"password is length smaller than 10\")\n",
    "\n",
    "password=\"HafizullaT12~!\"\n",
    "if(check_password(password)):\n",
    "   print(\"password is valid\")\n"
   ]
  },
  {
   "cell_type": "code",
   "execution_count": null,
   "metadata": {},
   "outputs": [],
   "source": [
    "# #Q1. You are writing code for a company. The requirement of the company is that you create a python\n",
    "# function that will check whether the password entered by the user is correct or not. The function should\n",
    "# take the password as input and return the string “Valid Password” if the entered password follows the\n",
    "# below-given password guidelines else it should return “Invalid Password”.\n",
    "# Note: 1. The Password should contain at least two uppercase letters and at least two lowercase letters.\n",
    "# 2. The Password should contain at least a number and three special characters.\n",
    "# 3. The length of the password should be 10 characters long.\n",
    "    \n",
    "def check_password(password):\n",
    "    captial_letters=0\n",
    "    small_letters  =0\n",
    "    special_characters=0\n",
    "    num=0\n",
    "    if length:=len(password)>=10:\n",
    "         \n",
    "        for char in password:\n",
    "           if char.isupper():captial_letters+=1\n",
    "           elif char.islower():small_letters+=1\n",
    "           elif char.isdigit():num+=1\n",
    "           else :special_characters+=1\n",
    "        if captial_letters>=2 and small_letters>= 2 and num >=1 and special_characters >=3:\n",
    "           return True\n",
    "        else: \n",
    "           return False\n",
    "    else:\n",
    "        print(\"password length is small\")\n",
    "    \n",
    "pwd=\"HafizullaH0786\"\n",
    "if check_password(pwd):\n",
    "    print(\"password is valid\")\n",
    "else:\n",
    "      print(\"password is invalid\")"
   ]
  },
  {
   "cell_type": "code",
   "execution_count": null,
   "metadata": {},
   "outputs": [],
   "source": []
  }
 ],
 "metadata": {
  "kernelspec": {
   "display_name": "Python 3",
   "language": "python",
   "name": "python3"
  },
  "language_info": {
   "codemirror_mode": {
    "name": "ipython",
    "version": 3
   },
   "file_extension": ".py",
   "mimetype": "text/x-python",
   "name": "python",
   "nbconvert_exporter": "python",
   "pygments_lexer": "ipython3",
   "version": "3.12.3"
  }
 },
 "nbformat": 4,
 "nbformat_minor": 2
}
